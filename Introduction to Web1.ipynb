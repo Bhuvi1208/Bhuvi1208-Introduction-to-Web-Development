{
  "nbformat": 4,
  "nbformat_minor": 0,
  "metadata": {
    "colab": {
      "provenance": []
    },
    "kernelspec": {
      "name": "python3",
      "display_name": "Python 3"
    },
    "language_info": {
      "name": "python"
    }
  },
  "cells": [
    {
      "cell_type": "markdown",
      "source": [
        "#Assignment\n",
        "\n",
        " **Question 1** :Explain the main components of client-server architecture and their functions.\n",
        " - Client-server architecture consists of the following main components:\n",
        "\n",
        "1. Client – The front-end user interface that requests services from the server. It sends requests and processes responses (e.g., web browsers, mobile apps).\n",
        "\n",
        "2. Server – The back-end system that processes client requests, performs operations, and returns results (e.g., web servers, database servers).\n",
        "\n",
        "3. Network – The communication medium (LAN, WAN, or the internet) that connects clients and servers, enabling data exchange.\n",
        "\n",
        "4. Database – A storage system where the server retrieves and updates data as per client requests.\n",
        "\n",
        "5. Application Logic – The set of rules and operations (business logic) that processes requests, performs computations, and manages workflows between the client and database.\n",
        "\n",
        "\n",
        "**Question 2**: Discuss the various career paths available after completing a web development course.\n",
        "-  Career paths after a web development course:\n",
        "\n",
        "**1.Front-End Developer** - Focuses on UI/UX using HTML, CSS, JavaScript.\n",
        "\n",
        "**2.Back-End Developer** - Works on server-side logic and databases.\n",
        "\n",
        "**3.Full-Stack Developer** - Manages both front-end and back-end.\n",
        "\n",
        "**4.UI/UX Designer** - Designs user-friendly interfaces.\n",
        "\n",
        "**5.Web Designer **-Creates website layouts and visuals.\n",
        "\n",
        "**6.DevOps Engineer** - Manages deployment and servers.\n",
        "\n",
        "**7.Freelancer/Entrepreneur** - Builds websites for clients.\n",
        "\n",
        "**8.E-commerce Developer** - Develops online stores.\n",
        "\n",
        "9.Mobile App Developer - Uses web tech for apps.\n",
        "\n",
        "**10.Cybersecurity Specialist** - Secures web applications.\n",
        "\n",
        "\n",
        "**Question 3** :Describe the role of a web browser's developer tools in web development.\n",
        "\n",
        "- A web browser's developer tools (DevTools) play a crucial role in web development by allowing developers to inspect, debug, and optimize web applications. Key functions include:  \n",
        "\n",
        "1. **Element Inspection** : View and edit HTML & CSS in real-time.  \n",
        "2. **Console** : Debug JavaScript and log errors.  \n",
        "3. **Network Monitoring** : Analyze HTTP requests, responses, and loading times.  \n",
        "4. **Performance Profiling** : Optimize website speed and responsiveness.  \n",
        "5. **Storage Management** : Inspect cookies, local storage, and session storage.  \n",
        "6. **Security Analysis** : Identify vulnerabilities and SSL issues.  \n",
        "7. **Device Emulation** : Test responsiveness on different screen sizes.\n",
        "\n",
        "**Question 4**: What are the advantages of using a Version Control System like Git in a development project?\n",
        "- Using Git in a development project has many advantages:  \n",
        "\n",
        "1. **Tracks Changes** : Git saves every update, so you can see what changed and when.  \n",
        "2. **Easy Teamwork** : Many developers can work on the same project without problems.  \n",
        "3. **Backup & Restore** : If something goes wrong, you can go back to an earlier version.  \n",
        "4. **Safe Testing** : You can create a separate branch to try new features without affecting the main code.  \n",
        "5. **Prevents Mistakes** : Git helps avoid accidental overwrites and mix-ups.  \n",
        "6. **Works Anywhere** : Store code online (e.g., GitHub) and access it from any device.  \n",
        "7. **Find & Fix Bugs** :If a bug appears, you can check past changes to find and fix the issue.  \n",
        "\n",
        "**Question 5:** Compare and contrast a text editor and an IDE, highlighting their key features and uses.\n",
        "- A **text editor** is a simple tool for writing and editing code, offering features like syntax highlighting and extensions. Examples include Notepad++, Sublime Text, and VS Code. It is lightweight and best for quick edits and small projects.  \n",
        "\n",
        "- An **IDE (Integrated Development Environment)** is a complete software suite with features like code editing, debugging, compiling, and version control. Examples include Visual Studio, PyCharm, and IntelliJ IDEA. IDEs are ideal for large projects and professional development but use more system resources.  \n",
        "\n",
        "**Key Difference:** Text editors are fast and simple, while IDEs provide advanced tools for full-scale development.\n",
        "\n"
      ],
      "metadata": {
        "id": "Cn4xhe6_aiqY"
      }
    },
    {
      "cell_type": "code",
      "execution_count": null,
      "metadata": {
        "id": "n1s1xROiZlci"
      },
      "outputs": [],
      "source": []
    },
    {
      "cell_type": "markdown",
      "source": [],
      "metadata": {
        "id": "5R8z3CHaZm2n"
      }
    }
  ]
}